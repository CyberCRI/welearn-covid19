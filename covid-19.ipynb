{
 "cells": [
  {
   "cell_type": "markdown",
   "metadata": {},
   "source": [
    "## COVID-19\n",
    "### Exploring Corona Virus Publications with WeLearn.\n",
    "\n",
    "Hey there! This is a notebook I used for doing curated page for WeLearn.\n",
    "\n",
    "If you haven't, check out the [Map on WeLearn][exp-page].\n",
    "\n",
    "This is an open source analysis, and available on GitHub.\n",
    "\n",
    "All the data used for this analysis is available via [WeLearn API][api-url].\n",
    "\n",
    "\n",
    "[api-url]: https://welearn.cri-paris.org/.meta/docs\n",
    "[exp-page]: https://welearn.cri-paris.org/experiments/covid19"
   ]
  },
  {
   "cell_type": "code",
   "execution_count": 1,
   "metadata": {},
   "outputs": [],
   "source": [
    "%config InlineBackend.figure_formats = ['png']\n",
    "\n",
    "import requests\n",
    "import pandas as pd\n",
    "import numpy as np\n",
    "import scipy as sci\n",
    "import scipy.spatial\n",
    "import scipy.linalg\n",
    "import networkx as nx\n",
    "import networkx.readwrite.json_graph\n",
    "\n",
    "from urllib.parse import urlparse\n",
    "from pprint import pprint\n",
    "\n",
    "import plotly.graph_objects as plotly_go"
   ]
  },
  {
   "cell_type": "code",
   "execution_count": 2,
   "metadata": {},
   "outputs": [
    {
     "name": "stdout",
     "output_type": "stream",
     "text": [
      "n(Resources) = 203\n",
      "\n",
      "{'concepts': [{'cuid': 'Q28946449',\n",
      "               'title_en': 'Transcriptomics technologies',\n",
      "               'title_fr': None,\n",
      "               'wikidata_id': 'Q28946449'},\n",
      "              {'cuid': 'Q7318015',\n",
      "               'title_en': 'Revenue assurance',\n",
      "               'title_fr': None,\n",
      "               'wikidata_id': 'Q7318015'},\n",
      "              {'cuid': 'Q858810',\n",
      "               'title_en': 'Big data',\n",
      "               'title_fr': 'Big data',\n",
      "               'wikidata_id': 'Q858810'},\n",
      "              {'cuid': 'Q5282133',\n",
      "               'title_en': 'Disease surveillance in China',\n",
      "               'title_fr': None,\n",
      "               'wikidata_id': 'Q5282133'},\n",
      "              {'cuid': 'Q891528',\n",
      "               'title_en': 'Social media measurement',\n",
      "               'title_fr': None,\n",
      "               'wikidata_id': 'Q891528'}],\n",
      " 'created': '2020-03-04T16:28:22.901685+00:00',\n",
      " 'lang': 'en',\n",
      " 'readability_score': 42.0,\n",
      " 'resource_id': '91c1b55c623d46e08b05e62d7c77314e',\n",
      " 'title': 'Novel Coronavirus Infection Map',\n",
      " 'updated': '2020-03-04T16:28:22.901685+00:00',\n",
      " 'url': 'https://hgis.uw.edu/virus/'}\n"
     ]
    }
   ],
   "source": [
    "COVID19_UUID = '8705149e0d3a449e9a70747df29ccea4'\n",
    "API_BASE_URL = f'https://welearn.cri-paris.org/api/resources/user/{COVID19_UUID}?limit=500'\n",
    "\n",
    "covid_resources = requests.get(API_BASE_URL).json()\n",
    "resources = covid_resources['results']\n",
    "\n",
    "print(f'n(Resources) = {len(resources)}\\n')\n",
    "\n",
    "pprint(resources[0])"
   ]
  },
  {
   "cell_type": "markdown",
   "metadata": {},
   "source": [
    "### Using NetworkX for Graph Statistics\n",
    "\n",
    "The API gets us the resources in this format:\n",
    "\n",
    "```json\n",
    "{\n",
    "  \"results\": [\n",
    "    {\n",
    "      \"resource_id\": \"string\",\n",
    "      \"title\": \"string\",\n",
    "      \"url\": \"string\",\n",
    "      \"lang\": \"string\",\n",
    "      \"readability_score\": 0,\n",
    "      \"concepts\": [\n",
    "        {\n",
    "          \"cuid\": \"string\",\n",
    "          \"wikidata_id\": \"string\",\n",
    "          \"title_en\": \"string\",\n",
    "          \"title_fr\": \"string\"\n",
    "        }\n",
    "      ]\n",
    "    }\n",
    "  ],\n",
    "  \"pagination\": {\n",
    "    \"count\": 0,\n",
    "    \"skip\": 0,\n",
    "    \"limit\": 0,\n",
    "    \"next\": 0\n",
    "  }\n",
    "}\n",
    "```\n",
    "\n",
    "We can quite easily transform this to a `node-link` format object to get a `NetworkX` Graph.\n",
    "\n",
    "The `node-link` format looks like this:\n",
    "```json\n",
    "{ nodes: [{id, ...props}], links: [{source, target}] }\n",
    "```"
   ]
  },
  {
   "cell_type": "code",
   "execution_count": 12,
   "metadata": {
    "code_folding": [
     1,
     9
    ]
   },
   "outputs": [],
   "source": [
    "def resource_graph(data):\n",
    "  def links_gen():\n",
    "    for resource in data:\n",
    "      for concept in resource['concepts']:\n",
    "        yield {\n",
    "          'source': resource['resource_id'],\n",
    "          'target': concept['wikidata_id'],\n",
    "        }\n",
    "\n",
    "  def nodes_gen():\n",
    "    '''Here we're sequentially emitting the resource and concept nodes.\n",
    "       It should be noted that this is a flat list so we add the \"group\"\n",
    "       properties as well.\n",
    "       Group 1: Resource, Group 2: Concept.\n",
    "\n",
    "       For concept nodes, we'd like to avoid duplicating data. We'll use\n",
    "       a list to keep track of the concepts already emitted.\n",
    "    '''\n",
    "    _cemit = []\n",
    "    for resource in data:\n",
    "      yield {\n",
    "        'id': resource['resource_id'],\n",
    "        'group': 1,\n",
    "        'url': resource['url'],\n",
    "        'title': resource['title'],\n",
    "      }\n",
    "      for concept in resource['concepts']:\n",
    "        if concept['wikidata_id'] in _cemit:\n",
    "          continue\n",
    "\n",
    "        _cemit.append(concept['wikidata_id'])\n",
    "        yield {\n",
    "          'id': concept['wikidata_id'],\n",
    "          'group': 2,\n",
    "          'title_en': concept['title_en'],\n",
    "          'title_fr': concept['title_fr'],\n",
    "        }\n",
    "\n",
    "  node_links = {\n",
    "    'nodes': list(nodes_gen()),\n",
    "    'links': list(links_gen()),\n",
    "  }\n",
    "  graph = networkx.json_graph.node_link_graph(node_links)\n",
    "  \n",
    "  return (graph, node_links)\n",
    "\n",
    "\n",
    "G, node_link_graph = resource_graph(resources)"
   ]
  },
  {
   "cell_type": "markdown",
   "metadata": {},
   "source": [
    "Nice! We now have the node-link format object. Lets get some stats out of this:"
   ]
  },
  {
   "cell_type": "code",
   "execution_count": 4,
   "metadata": {},
   "outputs": [
    {
     "name": "stdout",
     "output_type": "stream",
     "text": [
      "n(edges) = 679\n",
      "n(nodes) = 479\n"
     ]
    }
   ],
   "source": [
    "_nedge, _nnode = G.number_of_edges(), G.number_of_nodes()\n",
    "\n",
    "print(f'n(edges) = {_nedge}')\n",
    "print(f'n(nodes) = {_nnode}')\n"
   ]
  },
  {
   "cell_type": "markdown",
   "metadata": {},
   "source": [
    "**What are websites that are referred most often?**"
   ]
  },
  {
   "cell_type": "code",
   "execution_count": 9,
   "metadata": {},
   "outputs": [],
   "source": [
    "# Use urllib to parse the urls and get the domain names in a set.\n",
    "# with this, make a dataframe with <domain, freq> ordered pairs.\n",
    "\n",
    "domains = [urlparse(r['url']).netloc for r in resources]\n",
    "freq_list = [(x, domains.count(x)) for x in set(domains)]\n",
    "domain_freq = (pd\n",
    "               .DataFrame(freq_list, columns=['domain', 'freq'])\n",
    "               .sort_values(by='freq', ascending=False))"
   ]
  },
  {
   "cell_type": "code",
   "execution_count": 11,
   "metadata": {},
   "outputs": [
    {
     "data": {
      "application/vnd.plotly.v1+json": {
       "config": {
        "plotlyServerURL": "https://plot.ly"
       },
       "data": [
        {
         "type": "bar",
         "x": [
          "www.youtube.com",
          "twitter.com",
          "www.bbc.com",
          "www.bloomberg.com",
          "www.nytimes.com",
          "edition.cnn.com",
          "www.biorxiv.org",
          "www.theguardian.com",
          "www.npr.org",
          "www.nature.com",
          "www.ft.com",
          "www.gatesnotes.com",
          "www.economist.com",
          "www.scmp.com",
          "www.thelancet.com",
          "www.who.int",
          "www.darpa.mil",
          "www.wsj.com",
          "www.marketwatch.com",
          "www.sixthtone.com",
          "www.itsjusttheflu.com",
          "qz.com",
          "www.sciencemag.org",
          "www.wired.com",
          "www.medrxiv.org",
          "www.reddit.com",
          "en.wikipedia.org",
          "www.popsci.com",
          "www.washingtonpost.com",
          "www.worldometers.info",
          "www.theatlantic.com",
          "threadreaderapp.com",
          "www.businessinsider.fr",
          "www.zerohedge.com",
          "jamanetwork.com",
          "www.cidrap.umn.edu",
          "theprepared.com",
          "www.ncbi.nlm.nih.gov",
          "www.reuters.com",
          "vimeo.com",
          "www.sfchronicle.com",
          "www.acc.org",
          "multimedia.scmp.com",
          "www.snopes.com",
          "www.taiwannews.com.tw",
          "www.facebook.com",
          "www.ready.gov",
          "www.msn.com",
          "www.sciencealert.com",
          "cepi.net",
          "www.gisaid.org",
          "vac-lshtm.shinyapps.io",
          "landing.biohackingbook.com",
          "onlinelibrary.wiley.com",
          "www.lemonde.fr",
          "www.sciencedirect.com",
          "finance.yahoo.com",
          "www.statnews.com",
          "www.militarytimes.com",
          "ncbiinsights.ncbi.nlm.nih.gov",
          "www.sciencedaily.com",
          "blogs.scientificamerican.com",
          "bnonews.com",
          "www.cnbc.com",
          "bluedot.global",
          "www.europe1.fr",
          "www.indiaspend.com",
          "www.washington.edu",
          "actu.epfl.ch",
          "stacks.cdc.gov",
          "en.yna.co.kr",
          "www.nationalgeographic.com",
          "www.ucsf.edu",
          "www.vigiliae.org",
          "www.biancoresearch.com",
          "drive.google.com",
          "www.vice.com",
          "www.straitstimes.com",
          "www.paris.fr",
          "www.nejm.org",
          "apnews.com",
          "cmmid.github.io",
          "www.livescience.com",
          "graphics.reuters.com",
          "foreignpolicy.com",
          "www.forbes.com",
          "abcnews.go.com",
          "www.gouvernement.fr",
          "www.foxbusiness.com",
          "www.ecdc.europa.eu",
          "www.unicef.org.au",
          "www.theverge.com",
          "systems.jhu.edu",
          "www.google.com",
          "gisanddata.maps.arcgis.com",
          "www.latimes.com",
          "www.cdc.gov",
          "www.nih.gov",
          "timesofindia.indiatimes.com",
          "www.lci.fr",
          "medium.com",
          "www.aljazeera.com",
          "www.centerforhealthsecurity.org",
          "www.harvardmagazine.com",
          "www.tesmanian.com",
          "www.the-scientist.com",
          "thediplomat.com",
          "statistichecoronavirus.it",
          "seattleflu.org",
          "www.metaculus.com",
          "hgis.uw.edu",
          "www.dailymail.co.uk",
          "time.com",
          "www.politifact.com",
          "www.20minutes.fr",
          "www.themarker.com",
          "www.gatesfoundation.org",
          "filipinotimes.net"
         ],
         "y": [
          11,
          9,
          7,
          6,
          5,
          5,
          4,
          4,
          4,
          3,
          3,
          3,
          3,
          3,
          3,
          3,
          3,
          3,
          2,
          2,
          2,
          2,
          2,
          2,
          2,
          2,
          2,
          2,
          2,
          2,
          2,
          2,
          2,
          2,
          2,
          2,
          2,
          2,
          2,
          1,
          1,
          1,
          1,
          1,
          1,
          1,
          1,
          1,
          1,
          1,
          1,
          1,
          1,
          1,
          1,
          1,
          1,
          1,
          1,
          1,
          1,
          1,
          1,
          1,
          1,
          1,
          1,
          1,
          1,
          1,
          1,
          1,
          1,
          1,
          1,
          1,
          1,
          1,
          1,
          1,
          1,
          1,
          1,
          1,
          1,
          1,
          1,
          1,
          1,
          1,
          1,
          1,
          1,
          1,
          1,
          1,
          1,
          1,
          1,
          1,
          1,
          1,
          1,
          1,
          1,
          1,
          1,
          1,
          1,
          1,
          1,
          1,
          1,
          1,
          1,
          1,
          1,
          1
         ]
        }
       ],
       "layout": {
        "template": {
         "data": {
          "bar": [
           {
            "error_x": {
             "color": "#2a3f5f"
            },
            "error_y": {
             "color": "#2a3f5f"
            },
            "marker": {
             "line": {
              "color": "#E5ECF6",
              "width": 0.5
             }
            },
            "type": "bar"
           }
          ],
          "barpolar": [
           {
            "marker": {
             "line": {
              "color": "#E5ECF6",
              "width": 0.5
             }
            },
            "type": "barpolar"
           }
          ],
          "carpet": [
           {
            "aaxis": {
             "endlinecolor": "#2a3f5f",
             "gridcolor": "white",
             "linecolor": "white",
             "minorgridcolor": "white",
             "startlinecolor": "#2a3f5f"
            },
            "baxis": {
             "endlinecolor": "#2a3f5f",
             "gridcolor": "white",
             "linecolor": "white",
             "minorgridcolor": "white",
             "startlinecolor": "#2a3f5f"
            },
            "type": "carpet"
           }
          ],
          "choropleth": [
           {
            "colorbar": {
             "outlinewidth": 0,
             "ticks": ""
            },
            "type": "choropleth"
           }
          ],
          "contour": [
           {
            "colorbar": {
             "outlinewidth": 0,
             "ticks": ""
            },
            "colorscale": [
             [
              0,
              "#0d0887"
             ],
             [
              0.1111111111111111,
              "#46039f"
             ],
             [
              0.2222222222222222,
              "#7201a8"
             ],
             [
              0.3333333333333333,
              "#9c179e"
             ],
             [
              0.4444444444444444,
              "#bd3786"
             ],
             [
              0.5555555555555556,
              "#d8576b"
             ],
             [
              0.6666666666666666,
              "#ed7953"
             ],
             [
              0.7777777777777778,
              "#fb9f3a"
             ],
             [
              0.8888888888888888,
              "#fdca26"
             ],
             [
              1,
              "#f0f921"
             ]
            ],
            "type": "contour"
           }
          ],
          "contourcarpet": [
           {
            "colorbar": {
             "outlinewidth": 0,
             "ticks": ""
            },
            "type": "contourcarpet"
           }
          ],
          "heatmap": [
           {
            "colorbar": {
             "outlinewidth": 0,
             "ticks": ""
            },
            "colorscale": [
             [
              0,
              "#0d0887"
             ],
             [
              0.1111111111111111,
              "#46039f"
             ],
             [
              0.2222222222222222,
              "#7201a8"
             ],
             [
              0.3333333333333333,
              "#9c179e"
             ],
             [
              0.4444444444444444,
              "#bd3786"
             ],
             [
              0.5555555555555556,
              "#d8576b"
             ],
             [
              0.6666666666666666,
              "#ed7953"
             ],
             [
              0.7777777777777778,
              "#fb9f3a"
             ],
             [
              0.8888888888888888,
              "#fdca26"
             ],
             [
              1,
              "#f0f921"
             ]
            ],
            "type": "heatmap"
           }
          ],
          "heatmapgl": [
           {
            "colorbar": {
             "outlinewidth": 0,
             "ticks": ""
            },
            "colorscale": [
             [
              0,
              "#0d0887"
             ],
             [
              0.1111111111111111,
              "#46039f"
             ],
             [
              0.2222222222222222,
              "#7201a8"
             ],
             [
              0.3333333333333333,
              "#9c179e"
             ],
             [
              0.4444444444444444,
              "#bd3786"
             ],
             [
              0.5555555555555556,
              "#d8576b"
             ],
             [
              0.6666666666666666,
              "#ed7953"
             ],
             [
              0.7777777777777778,
              "#fb9f3a"
             ],
             [
              0.8888888888888888,
              "#fdca26"
             ],
             [
              1,
              "#f0f921"
             ]
            ],
            "type": "heatmapgl"
           }
          ],
          "histogram": [
           {
            "marker": {
             "colorbar": {
              "outlinewidth": 0,
              "ticks": ""
             }
            },
            "type": "histogram"
           }
          ],
          "histogram2d": [
           {
            "colorbar": {
             "outlinewidth": 0,
             "ticks": ""
            },
            "colorscale": [
             [
              0,
              "#0d0887"
             ],
             [
              0.1111111111111111,
              "#46039f"
             ],
             [
              0.2222222222222222,
              "#7201a8"
             ],
             [
              0.3333333333333333,
              "#9c179e"
             ],
             [
              0.4444444444444444,
              "#bd3786"
             ],
             [
              0.5555555555555556,
              "#d8576b"
             ],
             [
              0.6666666666666666,
              "#ed7953"
             ],
             [
              0.7777777777777778,
              "#fb9f3a"
             ],
             [
              0.8888888888888888,
              "#fdca26"
             ],
             [
              1,
              "#f0f921"
             ]
            ],
            "type": "histogram2d"
           }
          ],
          "histogram2dcontour": [
           {
            "colorbar": {
             "outlinewidth": 0,
             "ticks": ""
            },
            "colorscale": [
             [
              0,
              "#0d0887"
             ],
             [
              0.1111111111111111,
              "#46039f"
             ],
             [
              0.2222222222222222,
              "#7201a8"
             ],
             [
              0.3333333333333333,
              "#9c179e"
             ],
             [
              0.4444444444444444,
              "#bd3786"
             ],
             [
              0.5555555555555556,
              "#d8576b"
             ],
             [
              0.6666666666666666,
              "#ed7953"
             ],
             [
              0.7777777777777778,
              "#fb9f3a"
             ],
             [
              0.8888888888888888,
              "#fdca26"
             ],
             [
              1,
              "#f0f921"
             ]
            ],
            "type": "histogram2dcontour"
           }
          ],
          "mesh3d": [
           {
            "colorbar": {
             "outlinewidth": 0,
             "ticks": ""
            },
            "type": "mesh3d"
           }
          ],
          "parcoords": [
           {
            "line": {
             "colorbar": {
              "outlinewidth": 0,
              "ticks": ""
             }
            },
            "type": "parcoords"
           }
          ],
          "pie": [
           {
            "automargin": true,
            "type": "pie"
           }
          ],
          "scatter": [
           {
            "marker": {
             "colorbar": {
              "outlinewidth": 0,
              "ticks": ""
             }
            },
            "type": "scatter"
           }
          ],
          "scatter3d": [
           {
            "line": {
             "colorbar": {
              "outlinewidth": 0,
              "ticks": ""
             }
            },
            "marker": {
             "colorbar": {
              "outlinewidth": 0,
              "ticks": ""
             }
            },
            "type": "scatter3d"
           }
          ],
          "scattercarpet": [
           {
            "marker": {
             "colorbar": {
              "outlinewidth": 0,
              "ticks": ""
             }
            },
            "type": "scattercarpet"
           }
          ],
          "scattergeo": [
           {
            "marker": {
             "colorbar": {
              "outlinewidth": 0,
              "ticks": ""
             }
            },
            "type": "scattergeo"
           }
          ],
          "scattergl": [
           {
            "marker": {
             "colorbar": {
              "outlinewidth": 0,
              "ticks": ""
             }
            },
            "type": "scattergl"
           }
          ],
          "scattermapbox": [
           {
            "marker": {
             "colorbar": {
              "outlinewidth": 0,
              "ticks": ""
             }
            },
            "type": "scattermapbox"
           }
          ],
          "scatterpolar": [
           {
            "marker": {
             "colorbar": {
              "outlinewidth": 0,
              "ticks": ""
             }
            },
            "type": "scatterpolar"
           }
          ],
          "scatterpolargl": [
           {
            "marker": {
             "colorbar": {
              "outlinewidth": 0,
              "ticks": ""
             }
            },
            "type": "scatterpolargl"
           }
          ],
          "scatterternary": [
           {
            "marker": {
             "colorbar": {
              "outlinewidth": 0,
              "ticks": ""
             }
            },
            "type": "scatterternary"
           }
          ],
          "surface": [
           {
            "colorbar": {
             "outlinewidth": 0,
             "ticks": ""
            },
            "colorscale": [
             [
              0,
              "#0d0887"
             ],
             [
              0.1111111111111111,
              "#46039f"
             ],
             [
              0.2222222222222222,
              "#7201a8"
             ],
             [
              0.3333333333333333,
              "#9c179e"
             ],
             [
              0.4444444444444444,
              "#bd3786"
             ],
             [
              0.5555555555555556,
              "#d8576b"
             ],
             [
              0.6666666666666666,
              "#ed7953"
             ],
             [
              0.7777777777777778,
              "#fb9f3a"
             ],
             [
              0.8888888888888888,
              "#fdca26"
             ],
             [
              1,
              "#f0f921"
             ]
            ],
            "type": "surface"
           }
          ],
          "table": [
           {
            "cells": {
             "fill": {
              "color": "#EBF0F8"
             },
             "line": {
              "color": "white"
             }
            },
            "header": {
             "fill": {
              "color": "#C8D4E3"
             },
             "line": {
              "color": "white"
             }
            },
            "type": "table"
           }
          ]
         },
         "layout": {
          "annotationdefaults": {
           "arrowcolor": "#2a3f5f",
           "arrowhead": 0,
           "arrowwidth": 1
          },
          "coloraxis": {
           "colorbar": {
            "outlinewidth": 0,
            "ticks": ""
           }
          },
          "colorscale": {
           "diverging": [
            [
             0,
             "#8e0152"
            ],
            [
             0.1,
             "#c51b7d"
            ],
            [
             0.2,
             "#de77ae"
            ],
            [
             0.3,
             "#f1b6da"
            ],
            [
             0.4,
             "#fde0ef"
            ],
            [
             0.5,
             "#f7f7f7"
            ],
            [
             0.6,
             "#e6f5d0"
            ],
            [
             0.7,
             "#b8e186"
            ],
            [
             0.8,
             "#7fbc41"
            ],
            [
             0.9,
             "#4d9221"
            ],
            [
             1,
             "#276419"
            ]
           ],
           "sequential": [
            [
             0,
             "#0d0887"
            ],
            [
             0.1111111111111111,
             "#46039f"
            ],
            [
             0.2222222222222222,
             "#7201a8"
            ],
            [
             0.3333333333333333,
             "#9c179e"
            ],
            [
             0.4444444444444444,
             "#bd3786"
            ],
            [
             0.5555555555555556,
             "#d8576b"
            ],
            [
             0.6666666666666666,
             "#ed7953"
            ],
            [
             0.7777777777777778,
             "#fb9f3a"
            ],
            [
             0.8888888888888888,
             "#fdca26"
            ],
            [
             1,
             "#f0f921"
            ]
           ],
           "sequentialminus": [
            [
             0,
             "#0d0887"
            ],
            [
             0.1111111111111111,
             "#46039f"
            ],
            [
             0.2222222222222222,
             "#7201a8"
            ],
            [
             0.3333333333333333,
             "#9c179e"
            ],
            [
             0.4444444444444444,
             "#bd3786"
            ],
            [
             0.5555555555555556,
             "#d8576b"
            ],
            [
             0.6666666666666666,
             "#ed7953"
            ],
            [
             0.7777777777777778,
             "#fb9f3a"
            ],
            [
             0.8888888888888888,
             "#fdca26"
            ],
            [
             1,
             "#f0f921"
            ]
           ]
          },
          "colorway": [
           "#636efa",
           "#EF553B",
           "#00cc96",
           "#ab63fa",
           "#FFA15A",
           "#19d3f3",
           "#FF6692",
           "#B6E880",
           "#FF97FF",
           "#FECB52"
          ],
          "font": {
           "color": "#2a3f5f"
          },
          "geo": {
           "bgcolor": "white",
           "lakecolor": "white",
           "landcolor": "#E5ECF6",
           "showlakes": true,
           "showland": true,
           "subunitcolor": "white"
          },
          "hoverlabel": {
           "align": "left"
          },
          "hovermode": "closest",
          "mapbox": {
           "style": "light"
          },
          "paper_bgcolor": "white",
          "plot_bgcolor": "#E5ECF6",
          "polar": {
           "angularaxis": {
            "gridcolor": "white",
            "linecolor": "white",
            "ticks": ""
           },
           "bgcolor": "#E5ECF6",
           "radialaxis": {
            "gridcolor": "white",
            "linecolor": "white",
            "ticks": ""
           }
          },
          "scene": {
           "xaxis": {
            "backgroundcolor": "#E5ECF6",
            "gridcolor": "white",
            "gridwidth": 2,
            "linecolor": "white",
            "showbackground": true,
            "ticks": "",
            "zerolinecolor": "white"
           },
           "yaxis": {
            "backgroundcolor": "#E5ECF6",
            "gridcolor": "white",
            "gridwidth": 2,
            "linecolor": "white",
            "showbackground": true,
            "ticks": "",
            "zerolinecolor": "white"
           },
           "zaxis": {
            "backgroundcolor": "#E5ECF6",
            "gridcolor": "white",
            "gridwidth": 2,
            "linecolor": "white",
            "showbackground": true,
            "ticks": "",
            "zerolinecolor": "white"
           }
          },
          "shapedefaults": {
           "line": {
            "color": "#2a3f5f"
           }
          },
          "ternary": {
           "aaxis": {
            "gridcolor": "white",
            "linecolor": "white",
            "ticks": ""
           },
           "baxis": {
            "gridcolor": "white",
            "linecolor": "white",
            "ticks": ""
           },
           "bgcolor": "#E5ECF6",
           "caxis": {
            "gridcolor": "white",
            "linecolor": "white",
            "ticks": ""
           }
          },
          "title": {
           "x": 0.05
          },
          "xaxis": {
           "automargin": true,
           "gridcolor": "white",
           "linecolor": "white",
           "ticks": "",
           "title": {
            "standoff": 15
           },
           "zerolinecolor": "white",
           "zerolinewidth": 2
          },
          "yaxis": {
           "automargin": true,
           "gridcolor": "white",
           "linecolor": "white",
           "ticks": "",
           "title": {
            "standoff": 15
           },
           "zerolinecolor": "white",
           "zerolinewidth": 2
          }
         }
        }
       }
      },
      "text/html": [
       "<div>\n",
       "        \n",
       "        \n",
       "            <div id=\"4c59405f-efea-4d30-b17e-f660d81b9ea3\" class=\"plotly-graph-div\" style=\"height:525px; width:100%;\"></div>\n",
       "            <script type=\"text/javascript\">\n",
       "                require([\"plotly\"], function(Plotly) {\n",
       "                    window.PLOTLYENV=window.PLOTLYENV || {};\n",
       "                    \n",
       "                if (document.getElementById(\"4c59405f-efea-4d30-b17e-f660d81b9ea3\")) {\n",
       "                    Plotly.newPlot(\n",
       "                        '4c59405f-efea-4d30-b17e-f660d81b9ea3',\n",
       "                        [{\"type\": \"bar\", \"x\": [\"www.youtube.com\", \"twitter.com\", \"www.bbc.com\", \"www.bloomberg.com\", \"www.nytimes.com\", \"edition.cnn.com\", \"www.biorxiv.org\", \"www.theguardian.com\", \"www.npr.org\", \"www.nature.com\", \"www.ft.com\", \"www.gatesnotes.com\", \"www.economist.com\", \"www.scmp.com\", \"www.thelancet.com\", \"www.who.int\", \"www.darpa.mil\", \"www.wsj.com\", \"www.marketwatch.com\", \"www.sixthtone.com\", \"www.itsjusttheflu.com\", \"qz.com\", \"www.sciencemag.org\", \"www.wired.com\", \"www.medrxiv.org\", \"www.reddit.com\", \"en.wikipedia.org\", \"www.popsci.com\", \"www.washingtonpost.com\", \"www.worldometers.info\", \"www.theatlantic.com\", \"threadreaderapp.com\", \"www.businessinsider.fr\", \"www.zerohedge.com\", \"jamanetwork.com\", \"www.cidrap.umn.edu\", \"theprepared.com\", \"www.ncbi.nlm.nih.gov\", \"www.reuters.com\", \"vimeo.com\", \"www.sfchronicle.com\", \"www.acc.org\", \"multimedia.scmp.com\", \"www.snopes.com\", \"www.taiwannews.com.tw\", \"www.facebook.com\", \"www.ready.gov\", \"www.msn.com\", \"www.sciencealert.com\", \"cepi.net\", \"www.gisaid.org\", \"vac-lshtm.shinyapps.io\", \"landing.biohackingbook.com\", \"onlinelibrary.wiley.com\", \"www.lemonde.fr\", \"www.sciencedirect.com\", \"finance.yahoo.com\", \"www.statnews.com\", \"www.militarytimes.com\", \"ncbiinsights.ncbi.nlm.nih.gov\", \"www.sciencedaily.com\", \"blogs.scientificamerican.com\", \"bnonews.com\", \"www.cnbc.com\", \"bluedot.global\", \"www.europe1.fr\", \"www.indiaspend.com\", \"www.washington.edu\", \"actu.epfl.ch\", \"stacks.cdc.gov\", \"en.yna.co.kr\", \"www.nationalgeographic.com\", \"www.ucsf.edu\", \"www.vigiliae.org\", \"www.biancoresearch.com\", \"drive.google.com\", \"www.vice.com\", \"www.straitstimes.com\", \"www.paris.fr\", \"www.nejm.org\", \"apnews.com\", \"cmmid.github.io\", \"www.livescience.com\", \"graphics.reuters.com\", \"foreignpolicy.com\", \"www.forbes.com\", \"abcnews.go.com\", \"www.gouvernement.fr\", \"www.foxbusiness.com\", \"www.ecdc.europa.eu\", \"www.unicef.org.au\", \"www.theverge.com\", \"systems.jhu.edu\", \"www.google.com\", \"gisanddata.maps.arcgis.com\", \"www.latimes.com\", \"www.cdc.gov\", \"www.nih.gov\", \"timesofindia.indiatimes.com\", \"www.lci.fr\", \"medium.com\", \"www.aljazeera.com\", \"www.centerforhealthsecurity.org\", \"www.harvardmagazine.com\", \"www.tesmanian.com\", \"www.the-scientist.com\", \"thediplomat.com\", \"statistichecoronavirus.it\", \"seattleflu.org\", \"www.metaculus.com\", \"hgis.uw.edu\", \"www.dailymail.co.uk\", \"time.com\", \"www.politifact.com\", \"www.20minutes.fr\", \"www.themarker.com\", \"www.gatesfoundation.org\", \"filipinotimes.net\"], \"y\": [11, 9, 7, 6, 5, 5, 4, 4, 4, 3, 3, 3, 3, 3, 3, 3, 3, 3, 2, 2, 2, 2, 2, 2, 2, 2, 2, 2, 2, 2, 2, 2, 2, 2, 2, 2, 2, 2, 2, 1, 1, 1, 1, 1, 1, 1, 1, 1, 1, 1, 1, 1, 1, 1, 1, 1, 1, 1, 1, 1, 1, 1, 1, 1, 1, 1, 1, 1, 1, 1, 1, 1, 1, 1, 1, 1, 1, 1, 1, 1, 1, 1, 1, 1, 1, 1, 1, 1, 1, 1, 1, 1, 1, 1, 1, 1, 1, 1, 1, 1, 1, 1, 1, 1, 1, 1, 1, 1, 1, 1, 1, 1, 1, 1, 1, 1, 1, 1]}],\n",
       "                        {\"template\": {\"data\": {\"bar\": [{\"error_x\": {\"color\": \"#2a3f5f\"}, \"error_y\": {\"color\": \"#2a3f5f\"}, \"marker\": {\"line\": {\"color\": \"#E5ECF6\", \"width\": 0.5}}, \"type\": \"bar\"}], \"barpolar\": [{\"marker\": {\"line\": {\"color\": \"#E5ECF6\", \"width\": 0.5}}, \"type\": \"barpolar\"}], \"carpet\": [{\"aaxis\": {\"endlinecolor\": \"#2a3f5f\", \"gridcolor\": \"white\", \"linecolor\": \"white\", \"minorgridcolor\": \"white\", \"startlinecolor\": \"#2a3f5f\"}, \"baxis\": {\"endlinecolor\": \"#2a3f5f\", \"gridcolor\": \"white\", \"linecolor\": \"white\", \"minorgridcolor\": \"white\", \"startlinecolor\": \"#2a3f5f\"}, \"type\": \"carpet\"}], \"choropleth\": [{\"colorbar\": {\"outlinewidth\": 0, \"ticks\": \"\"}, \"type\": \"choropleth\"}], \"contour\": [{\"colorbar\": {\"outlinewidth\": 0, \"ticks\": \"\"}, \"colorscale\": [[0.0, \"#0d0887\"], [0.1111111111111111, \"#46039f\"], [0.2222222222222222, \"#7201a8\"], [0.3333333333333333, \"#9c179e\"], [0.4444444444444444, \"#bd3786\"], [0.5555555555555556, \"#d8576b\"], [0.6666666666666666, \"#ed7953\"], [0.7777777777777778, \"#fb9f3a\"], [0.8888888888888888, \"#fdca26\"], [1.0, \"#f0f921\"]], \"type\": \"contour\"}], \"contourcarpet\": [{\"colorbar\": {\"outlinewidth\": 0, \"ticks\": \"\"}, \"type\": \"contourcarpet\"}], \"heatmap\": [{\"colorbar\": {\"outlinewidth\": 0, \"ticks\": \"\"}, \"colorscale\": [[0.0, \"#0d0887\"], [0.1111111111111111, \"#46039f\"], [0.2222222222222222, \"#7201a8\"], [0.3333333333333333, \"#9c179e\"], [0.4444444444444444, \"#bd3786\"], [0.5555555555555556, \"#d8576b\"], [0.6666666666666666, \"#ed7953\"], [0.7777777777777778, \"#fb9f3a\"], [0.8888888888888888, \"#fdca26\"], [1.0, \"#f0f921\"]], \"type\": \"heatmap\"}], \"heatmapgl\": [{\"colorbar\": {\"outlinewidth\": 0, \"ticks\": \"\"}, \"colorscale\": [[0.0, \"#0d0887\"], [0.1111111111111111, \"#46039f\"], [0.2222222222222222, \"#7201a8\"], [0.3333333333333333, \"#9c179e\"], [0.4444444444444444, \"#bd3786\"], [0.5555555555555556, \"#d8576b\"], [0.6666666666666666, \"#ed7953\"], [0.7777777777777778, \"#fb9f3a\"], [0.8888888888888888, \"#fdca26\"], [1.0, \"#f0f921\"]], \"type\": \"heatmapgl\"}], \"histogram\": [{\"marker\": {\"colorbar\": {\"outlinewidth\": 0, \"ticks\": \"\"}}, \"type\": \"histogram\"}], \"histogram2d\": [{\"colorbar\": {\"outlinewidth\": 0, \"ticks\": \"\"}, \"colorscale\": [[0.0, \"#0d0887\"], [0.1111111111111111, \"#46039f\"], [0.2222222222222222, \"#7201a8\"], [0.3333333333333333, \"#9c179e\"], [0.4444444444444444, \"#bd3786\"], [0.5555555555555556, \"#d8576b\"], [0.6666666666666666, \"#ed7953\"], [0.7777777777777778, \"#fb9f3a\"], [0.8888888888888888, \"#fdca26\"], [1.0, \"#f0f921\"]], \"type\": \"histogram2d\"}], \"histogram2dcontour\": [{\"colorbar\": {\"outlinewidth\": 0, \"ticks\": \"\"}, \"colorscale\": [[0.0, \"#0d0887\"], [0.1111111111111111, \"#46039f\"], [0.2222222222222222, \"#7201a8\"], [0.3333333333333333, \"#9c179e\"], [0.4444444444444444, \"#bd3786\"], [0.5555555555555556, \"#d8576b\"], [0.6666666666666666, \"#ed7953\"], [0.7777777777777778, \"#fb9f3a\"], [0.8888888888888888, \"#fdca26\"], [1.0, \"#f0f921\"]], \"type\": \"histogram2dcontour\"}], \"mesh3d\": [{\"colorbar\": {\"outlinewidth\": 0, \"ticks\": \"\"}, \"type\": \"mesh3d\"}], \"parcoords\": [{\"line\": {\"colorbar\": {\"outlinewidth\": 0, \"ticks\": \"\"}}, \"type\": \"parcoords\"}], \"pie\": [{\"automargin\": true, \"type\": \"pie\"}], \"scatter\": [{\"marker\": {\"colorbar\": {\"outlinewidth\": 0, \"ticks\": \"\"}}, \"type\": \"scatter\"}], \"scatter3d\": [{\"line\": {\"colorbar\": {\"outlinewidth\": 0, \"ticks\": \"\"}}, \"marker\": {\"colorbar\": {\"outlinewidth\": 0, \"ticks\": \"\"}}, \"type\": \"scatter3d\"}], \"scattercarpet\": [{\"marker\": {\"colorbar\": {\"outlinewidth\": 0, \"ticks\": \"\"}}, \"type\": \"scattercarpet\"}], \"scattergeo\": [{\"marker\": {\"colorbar\": {\"outlinewidth\": 0, \"ticks\": \"\"}}, \"type\": \"scattergeo\"}], \"scattergl\": [{\"marker\": {\"colorbar\": {\"outlinewidth\": 0, \"ticks\": \"\"}}, \"type\": \"scattergl\"}], \"scattermapbox\": [{\"marker\": {\"colorbar\": {\"outlinewidth\": 0, \"ticks\": \"\"}}, \"type\": \"scattermapbox\"}], \"scatterpolar\": [{\"marker\": {\"colorbar\": {\"outlinewidth\": 0, \"ticks\": \"\"}}, \"type\": \"scatterpolar\"}], \"scatterpolargl\": [{\"marker\": {\"colorbar\": {\"outlinewidth\": 0, \"ticks\": \"\"}}, \"type\": \"scatterpolargl\"}], \"scatterternary\": [{\"marker\": {\"colorbar\": {\"outlinewidth\": 0, \"ticks\": \"\"}}, \"type\": \"scatterternary\"}], \"surface\": [{\"colorbar\": {\"outlinewidth\": 0, \"ticks\": \"\"}, \"colorscale\": [[0.0, \"#0d0887\"], [0.1111111111111111, \"#46039f\"], [0.2222222222222222, \"#7201a8\"], [0.3333333333333333, \"#9c179e\"], [0.4444444444444444, \"#bd3786\"], [0.5555555555555556, \"#d8576b\"], [0.6666666666666666, \"#ed7953\"], [0.7777777777777778, \"#fb9f3a\"], [0.8888888888888888, \"#fdca26\"], [1.0, \"#f0f921\"]], \"type\": \"surface\"}], \"table\": [{\"cells\": {\"fill\": {\"color\": \"#EBF0F8\"}, \"line\": {\"color\": \"white\"}}, \"header\": {\"fill\": {\"color\": \"#C8D4E3\"}, \"line\": {\"color\": \"white\"}}, \"type\": \"table\"}]}, \"layout\": {\"annotationdefaults\": {\"arrowcolor\": \"#2a3f5f\", \"arrowhead\": 0, \"arrowwidth\": 1}, \"coloraxis\": {\"colorbar\": {\"outlinewidth\": 0, \"ticks\": \"\"}}, \"colorscale\": {\"diverging\": [[0, \"#8e0152\"], [0.1, \"#c51b7d\"], [0.2, \"#de77ae\"], [0.3, \"#f1b6da\"], [0.4, \"#fde0ef\"], [0.5, \"#f7f7f7\"], [0.6, \"#e6f5d0\"], [0.7, \"#b8e186\"], [0.8, \"#7fbc41\"], [0.9, \"#4d9221\"], [1, \"#276419\"]], \"sequential\": [[0.0, \"#0d0887\"], [0.1111111111111111, \"#46039f\"], [0.2222222222222222, \"#7201a8\"], [0.3333333333333333, \"#9c179e\"], [0.4444444444444444, \"#bd3786\"], [0.5555555555555556, \"#d8576b\"], [0.6666666666666666, \"#ed7953\"], [0.7777777777777778, \"#fb9f3a\"], [0.8888888888888888, \"#fdca26\"], [1.0, \"#f0f921\"]], \"sequentialminus\": [[0.0, \"#0d0887\"], [0.1111111111111111, \"#46039f\"], [0.2222222222222222, \"#7201a8\"], [0.3333333333333333, \"#9c179e\"], [0.4444444444444444, \"#bd3786\"], [0.5555555555555556, \"#d8576b\"], [0.6666666666666666, \"#ed7953\"], [0.7777777777777778, \"#fb9f3a\"], [0.8888888888888888, \"#fdca26\"], [1.0, \"#f0f921\"]]}, \"colorway\": [\"#636efa\", \"#EF553B\", \"#00cc96\", \"#ab63fa\", \"#FFA15A\", \"#19d3f3\", \"#FF6692\", \"#B6E880\", \"#FF97FF\", \"#FECB52\"], \"font\": {\"color\": \"#2a3f5f\"}, \"geo\": {\"bgcolor\": \"white\", \"lakecolor\": \"white\", \"landcolor\": \"#E5ECF6\", \"showlakes\": true, \"showland\": true, \"subunitcolor\": \"white\"}, \"hoverlabel\": {\"align\": \"left\"}, \"hovermode\": \"closest\", \"mapbox\": {\"style\": \"light\"}, \"paper_bgcolor\": \"white\", \"plot_bgcolor\": \"#E5ECF6\", \"polar\": {\"angularaxis\": {\"gridcolor\": \"white\", \"linecolor\": \"white\", \"ticks\": \"\"}, \"bgcolor\": \"#E5ECF6\", \"radialaxis\": {\"gridcolor\": \"white\", \"linecolor\": \"white\", \"ticks\": \"\"}}, \"scene\": {\"xaxis\": {\"backgroundcolor\": \"#E5ECF6\", \"gridcolor\": \"white\", \"gridwidth\": 2, \"linecolor\": \"white\", \"showbackground\": true, \"ticks\": \"\", \"zerolinecolor\": \"white\"}, \"yaxis\": {\"backgroundcolor\": \"#E5ECF6\", \"gridcolor\": \"white\", \"gridwidth\": 2, \"linecolor\": \"white\", \"showbackground\": true, \"ticks\": \"\", \"zerolinecolor\": \"white\"}, \"zaxis\": {\"backgroundcolor\": \"#E5ECF6\", \"gridcolor\": \"white\", \"gridwidth\": 2, \"linecolor\": \"white\", \"showbackground\": true, \"ticks\": \"\", \"zerolinecolor\": \"white\"}}, \"shapedefaults\": {\"line\": {\"color\": \"#2a3f5f\"}}, \"ternary\": {\"aaxis\": {\"gridcolor\": \"white\", \"linecolor\": \"white\", \"ticks\": \"\"}, \"baxis\": {\"gridcolor\": \"white\", \"linecolor\": \"white\", \"ticks\": \"\"}, \"bgcolor\": \"#E5ECF6\", \"caxis\": {\"gridcolor\": \"white\", \"linecolor\": \"white\", \"ticks\": \"\"}}, \"title\": {\"x\": 0.05}, \"xaxis\": {\"automargin\": true, \"gridcolor\": \"white\", \"linecolor\": \"white\", \"ticks\": \"\", \"title\": {\"standoff\": 15}, \"zerolinecolor\": \"white\", \"zerolinewidth\": 2}, \"yaxis\": {\"automargin\": true, \"gridcolor\": \"white\", \"linecolor\": \"white\", \"ticks\": \"\", \"title\": {\"standoff\": 15}, \"zerolinecolor\": \"white\", \"zerolinewidth\": 2}}}},\n",
       "                        {\"responsive\": true}\n",
       "                    ).then(function(){\n",
       "                            \n",
       "var gd = document.getElementById('4c59405f-efea-4d30-b17e-f660d81b9ea3');\n",
       "var x = new MutationObserver(function (mutations, observer) {{\n",
       "        var display = window.getComputedStyle(gd).display;\n",
       "        if (!display || display === 'none') {{\n",
       "            console.log([gd, 'removed!']);\n",
       "            Plotly.purge(gd);\n",
       "            observer.disconnect();\n",
       "        }}\n",
       "}});\n",
       "\n",
       "// Listen for the removal of the full notebook cells\n",
       "var notebookContainer = gd.closest('#notebook-container');\n",
       "if (notebookContainer) {{\n",
       "    x.observe(notebookContainer, {childList: true});\n",
       "}}\n",
       "\n",
       "// Listen for the clearing of the current output cell\n",
       "var outputEl = gd.closest('.output');\n",
       "if (outputEl) {{\n",
       "    x.observe(outputEl, {childList: true});\n",
       "}}\n",
       "\n",
       "                        })\n",
       "                };\n",
       "                });\n",
       "            </script>\n",
       "        </div>"
      ]
     },
     "metadata": {},
     "output_type": "display_data"
    }
   ],
   "source": [
    "fig = plotly_go.Figure(data=plotly_go.Bar(x=domain_freq.domain, y=domain_freq.freq))\n",
    "fig.show()"
   ]
  },
  {
   "cell_type": "code",
   "execution_count": null,
   "metadata": {},
   "outputs": [],
   "source": []
  }
 ],
 "metadata": {
  "kernelspec": {
   "display_name": "Sandbox [py 3.8]",
   "language": "python",
   "name": "sandbox"
  },
  "language_info": {
   "codemirror_mode": {
    "name": "ipython",
    "version": 3
   },
   "file_extension": ".py",
   "mimetype": "text/x-python",
   "name": "python",
   "nbconvert_exporter": "python",
   "pygments_lexer": "ipython3",
   "version": "3.8.0"
  },
  "latex_envs": {
   "LaTeX_envs_menu_present": true,
   "autoclose": true,
   "autocomplete": false,
   "bibliofile": "biblio.bib",
   "cite_by": "apalike",
   "current_citInitial": 1,
   "eqLabelWithNumbers": true,
   "eqNumInitial": 1,
   "hotkeys": {
    "equation": "Ctrl-E",
    "itemize": "Ctrl-I"
   },
   "labels_anchors": false,
   "latex_user_defs": false,
   "report_style_numbering": false,
   "user_envs_cfg": false
  }
 },
 "nbformat": 4,
 "nbformat_minor": 2
}
